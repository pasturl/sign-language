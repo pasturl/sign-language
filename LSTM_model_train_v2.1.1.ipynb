{
 "cells": [
  {
   "cell_type": "code",
   "execution_count": 1,
   "id": "612c0aa6",
   "metadata": {},
   "outputs": [],
   "source": [
    "import tensorflow as tf\n",
    "from tensorflow import keras\n",
    "import numpy as np\n",
    "import pandas as pd\n",
    "import seaborn as sns\n",
    "import matplotlib.pyplot as plt\n",
    "from os import listdir\n",
    "from tensorflow.keras.layers import LSTM, Dense\n",
    "from sklearn.model_selection import train_test_split\n",
    "from sklearn.metrics import confusion_matrix\n"
   ]
  },
  {
   "cell_type": "code",
   "execution_count": 2,
   "id": "3a91b524",
   "metadata": {},
   "outputs": [],
   "source": [
    "# Analyze to load data in batch\n",
    "# https://stackoverflow.com/questions/61891990/how-to-load-npy-files-from-different-directories-in-tensorflow-data-pipeline-fr"
   ]
  },
  {
   "cell_type": "code",
   "execution_count": 3,
   "id": "ee03d60e",
   "metadata": {},
   "outputs": [],
   "source": [
    "MAX_CLASSES = 10"
   ]
  },
  {
   "cell_type": "code",
   "execution_count": 4,
   "id": "620ee2fb",
   "metadata": {},
   "outputs": [],
   "source": [
    "data_path = \"./data/train_cnn_features_v2\"\n",
    "train_examples = []\n",
    "train_labels = []\n",
    "video_categories = listdir(data_path)\n",
    "for category in video_categories[:MAX_CLASSES]:\n",
    "    category_path = data_path+\"/\"+category\n",
    "    images_files = listdir(category_path)\n",
    "    for image in images_files:\n",
    "        image_path = category_path+\"/\"+image\n",
    "        cnn_features = np.load(image_path)[\"arr_0\"]\n",
    "        train_examples.append(cnn_features)\n",
    "        train_labels.append(category)"
   ]
  },
  {
   "cell_type": "code",
   "execution_count": 21,
   "id": "a4cb32aa",
   "metadata": {},
   "outputs": [],
   "source": [
    "MAX_SEQ_LENGTH = 242\n",
    "NUM_FEATURES = 1280\n",
    "LEARNING_RATE = 0.001\n",
    "EPOCHS = 10\n",
    "BATCH_SIZE = 128\n",
    "CLASSES = list(set(train_labels))\n",
    "N_CLASSES = len(CLASSES)\n",
    "LSTM_1 = 128\n",
    "LSTM_2 = 64\n",
    "DENSE_1 = 256\n",
    "DENSE_2 = 124"
   ]
  },
  {
   "cell_type": "code",
   "execution_count": 22,
   "id": "cfd9adc0",
   "metadata": {},
   "outputs": [
    {
     "data": {
      "text/plain": [
       "10"
      ]
     },
     "execution_count": 22,
     "metadata": {},
     "output_type": "execute_result"
    }
   ],
   "source": [
    "N_CLASSES"
   ]
  },
  {
   "cell_type": "code",
   "execution_count": 23,
   "id": "efcd17d2",
   "metadata": {},
   "outputs": [],
   "source": [
    "labels_mapping = dict(zip(CLASSES, range(N_CLASSES)))"
   ]
  },
  {
   "cell_type": "code",
   "execution_count": 24,
   "id": "0505c494",
   "metadata": {},
   "outputs": [],
   "source": [
    "train_labels_ids = [labels_mapping[case] for case in train_labels]"
   ]
  },
  {
   "cell_type": "code",
   "execution_count": 25,
   "id": "5b7669df",
   "metadata": {},
   "outputs": [],
   "source": [
    "labels_one_hot = tf.one_hot(train_labels_ids, N_CLASSES)"
   ]
  },
  {
   "cell_type": "code",
   "execution_count": 26,
   "id": "e45ec18a",
   "metadata": {},
   "outputs": [],
   "source": [
    "X_train, X_test, y_train_ids, y_test_ids = train_test_split(train_examples, train_labels_ids, test_size=0.33, random_state=42)"
   ]
  },
  {
   "cell_type": "code",
   "execution_count": 27,
   "id": "cbcd9c9c",
   "metadata": {},
   "outputs": [],
   "source": [
    "y_train = tf.one_hot(y_train_ids, N_CLASSES)\n",
    "y_test = tf.one_hot(y_test_ids, N_CLASSES)"
   ]
  },
  {
   "cell_type": "code",
   "execution_count": 28,
   "id": "85e0643a",
   "metadata": {},
   "outputs": [],
   "source": [
    "train_dataset = tf.data.Dataset.from_tensor_slices((X_train, y_train)).batch(BATCH_SIZE)\n",
    "test_dataset = tf.data.Dataset.from_tensor_slices((X_test, y_test)).batch(BATCH_SIZE)\n",
    "#train_dataset = tf.data.Dataset.from_tensor_slices((train_examples, labels_one_hot)).batch(BATCH_SIZE)"
   ]
  },
  {
   "cell_type": "code",
   "execution_count": 43,
   "id": "d5b54d7f",
   "metadata": {},
   "outputs": [
    {
     "name": "stdout",
     "output_type": "stream",
     "text": [
      "Model: \"sequential_3\"\n",
      "_________________________________________________________________\n",
      " Layer (type)                Output Shape              Param #   \n",
      "=================================================================\n",
      " lstm_6 (LSTM)               (None, 242, 128)          721408    \n",
      "                                                                 \n",
      " lstm_7 (LSTM)               (None, 64)                49408     \n",
      "                                                                 \n",
      " dense_9 (Dense)             (None, 256)               16640     \n",
      "                                                                 \n",
      " dense_10 (Dense)            (None, 124)               31868     \n",
      "                                                                 \n",
      " dense_11 (Dense)            (None, 10)                1250      \n",
      "                                                                 \n",
      "=================================================================\n",
      "Total params: 820,574\n",
      "Trainable params: 820,574\n",
      "Non-trainable params: 0\n",
      "_________________________________________________________________\n"
     ]
    }
   ],
   "source": [
    "model = keras.Sequential()\n",
    "model.add(keras.Input(shape=(MAX_SEQ_LENGTH, NUM_FEATURES))) \n",
    "model.add(LSTM(LSTM_1, dropout=0.2, return_sequences=True))\n",
    "model.add(LSTM(LSTM_2))\n",
    "model.add(Dense(DENSE_1))\n",
    "model.add(Dense(DENSE_2))\n",
    "model.add(Dense(N_CLASSES, activation=\"softmax\"))\n",
    "\n",
    "opt = keras.optimizers.Adam(learning_rate=LEARNING_RATE)\n",
    "model.compile(loss=\"categorical_crossentropy\", \n",
    "              optimizer=opt,\n",
    "              metrics=[\"accuracy\"])\n",
    "\n",
    "model.summary()"
   ]
  },
  {
   "cell_type": "code",
   "execution_count": 44,
   "id": "4cfabf05",
   "metadata": {},
   "outputs": [
    {
     "name": "stdout",
     "output_type": "stream",
     "text": [
      "Epoch 1/10\n",
      "3/3 [==============================] - 3s 468ms/step - loss: 2.3039 - accuracy: 0.0955 - val_loss: 2.3095 - val_accuracy: 0.0727\n",
      "Epoch 2/10\n",
      "3/3 [==============================] - 1s 268ms/step - loss: 2.3001 - accuracy: 0.1134 - val_loss: 2.3159 - val_accuracy: 0.0727\n",
      "Epoch 3/10\n",
      "3/3 [==============================] - 1s 266ms/step - loss: 2.2977 - accuracy: 0.1134 - val_loss: 2.3216 - val_accuracy: 0.0727\n",
      "Epoch 4/10\n",
      "3/3 [==============================] - 1s 252ms/step - loss: 2.2810 - accuracy: 0.1134 - val_loss: 2.4483 - val_accuracy: 0.0727\n",
      "Epoch 5/10\n",
      "3/3 [==============================] - 1s 255ms/step - loss: 2.2544 - accuracy: 0.1552 - val_loss: 2.2977 - val_accuracy: 0.0970\n",
      "Epoch 6/10\n",
      "3/3 [==============================] - 1s 252ms/step - loss: 2.2673 - accuracy: 0.1463 - val_loss: 2.2960 - val_accuracy: 0.0970\n",
      "Epoch 7/10\n",
      "3/3 [==============================] - 1s 263ms/step - loss: 2.2699 - accuracy: 0.1463 - val_loss: 2.2756 - val_accuracy: 0.0970\n",
      "Epoch 8/10\n",
      "3/3 [==============================] - 1s 260ms/step - loss: 2.2387 - accuracy: 0.1463 - val_loss: 2.2177 - val_accuracy: 0.1333\n",
      "Epoch 9/10\n",
      "3/3 [==============================] - 1s 251ms/step - loss: 2.1653 - accuracy: 0.2119 - val_loss: 2.2569 - val_accuracy: 0.1333\n",
      "Epoch 10/10\n",
      "3/3 [==============================] - 1s 253ms/step - loss: 2.1088 - accuracy: 0.2119 - val_loss: 2.1665 - val_accuracy: 0.1333\n"
     ]
    }
   ],
   "source": [
    "filepath = \"./trained_models/video_classifier_rnn/\"\n",
    "checkpoint = keras.callbacks.ModelCheckpoint(filepath, \n",
    "                                             save_weights_only=True,\n",
    "                                             save_best_only=True,\n",
    "                                             verbose=1)\n",
    "history = model.fit(train_dataset, validation_data=test_dataset, #callbacks=[checkpoint],\n",
    "                    epochs=EPOCHS)"
   ]
  },
  {
   "cell_type": "code",
   "execution_count": 45,
   "id": "89c1e67d",
   "metadata": {},
   "outputs": [],
   "source": [
    "predictions_test = model.predict(np.array(X_test))"
   ]
  },
  {
   "cell_type": "code",
   "execution_count": 46,
   "id": "044cea73",
   "metadata": {},
   "outputs": [],
   "source": [
    "predictions_class_test = np.argmax(predictions_test, axis =1)"
   ]
  },
  {
   "cell_type": "code",
   "execution_count": 47,
   "id": "6c720667",
   "metadata": {},
   "outputs": [],
   "source": [
    "y_true = y_test_ids\n",
    "y_pred =  predictions_class_test\n",
    "# Confusion matrix for actual and predicted values.\n",
    "cm = confusion_matrix(y_true, y_pred)"
   ]
  },
  {
   "cell_type": "code",
   "execution_count": 48,
   "id": "52733ee6",
   "metadata": {},
   "outputs": [],
   "source": [
    "# Creating a dataframe for a array-formatted Confusion matrix,so it will be easy for plotting.\n",
    "cm_df = pd.DataFrame(cm,\n",
    "                     index = CLASSES, \n",
    "                     columns = CLASSES)"
   ]
  },
  {
   "cell_type": "code",
   "execution_count": 49,
   "id": "aa65c12b",
   "metadata": {},
   "outputs": [
    {
     "data": {
      "image/png": "[encoded data removed]",
      "text/plain": [
       "<Figure size 1152x864 with 2 Axes>"
      ]
     },
     "metadata": {
      "needs_background": "light"
     },
     "output_type": "display_data"
    }
   ],
   "source": [
    "#Plotting the confusion matrix\n",
    "plt.figure(figsize=(16,12))\n",
    "sns.heatmap(cm_df, annot=True)\n",
    "plt.title('Confusion Matrix')\n",
    "plt.ylabel('Actual Values')\n",
    "plt.xlabel('Predicted Values')\n",
    "plt.show()\n"
   ]
  },
  {
   "cell_type": "code",
   "execution_count": null,
   "id": "00f37358",
   "metadata": {},
   "outputs": [],
   "source": []
  },
  {
   "cell_type": "code",
   "execution_count": null,
   "id": "26bfbe74",
   "metadata": {},
   "outputs": [],
   "source": []
  }
 ],
 "metadata": {
  "kernelspec": {
   "display_name": "Python 3 (ipykernel)",
   "language": "python",
   "name": "python3"
  },
  "language_info": {
   "codemirror_mode": {
    "name": "ipython",
    "version": 3
   },
   "file_extension": ".py",
   "mimetype": "text/x-python",
   "name": "python",
   "nbconvert_exporter": "python",
   "pygments_lexer": "ipython3",
   "version": "3.8.0"
  }
 },
 "nbformat": 4,
 "nbformat_minor": 5
}
