{
 "cells": [
  {
   "cell_type": "code",
   "execution_count": 1,
   "id": "a6ab3401",
   "metadata": {},
   "outputs": [],
   "source": [
    "import tensorflow as tf\n",
    "from PIL import Image\n",
    "import numpy as np\n",
    "from keras.models import Model\n",
    "from tensorflow import keras\n",
    "import pandas as pd\n",
    "from os import walk, listdir\n",
    "import os "
   ]
  },
  {
   "cell_type": "code",
   "execution_count": 2,
   "id": "0a8061b0",
   "metadata": {},
   "outputs": [],
   "source": [
    "categories = pd.read_csv(\"category_mapping.csv\", sep=\";\")"
   ]
  },
  {
   "cell_type": "code",
   "execution_count": 3,
   "id": "3de51d92",
   "metadata": {},
   "outputs": [],
   "source": [
    "categories[\"ID_str\"] = categories[\"ID\"].apply(lambda x: str(x).zfill(3))"
   ]
  },
  {
   "cell_type": "code",
   "execution_count": 4,
   "id": "3a97adad",
   "metadata": {},
   "outputs": [],
   "source": [
    "categories_to_ID = dict(zip(categories[\"ID_str\"],categories[\"Name\"]))"
   ]
  },
  {
   "cell_type": "code",
   "execution_count": 5,
   "id": "14d5abb7",
   "metadata": {},
   "outputs": [],
   "source": [
    "data_path = \"./data/train_frames_sample\"\n",
    "output_path = \"./data/train_mobilenet_features/\"\n",
    "video_categories = listdir(data_path)\n",
    "image_files = []\n",
    "for category in video_categories:\n",
    "    category_path = data_path+\"/\"+category\n",
    "    image_files_category = listdir(category_path)\n",
    "    image_files = image_files+image_files_category"
   ]
  },
  {
   "cell_type": "code",
   "execution_count": 6,
   "id": "581a802f",
   "metadata": {},
   "outputs": [
    {
     "data": {
      "text/plain": [
       "4"
      ]
     },
     "execution_count": 6,
     "metadata": {},
     "output_type": "execute_result"
    }
   ],
   "source": [
    "len(video_categories)"
   ]
  },
  {
   "cell_type": "code",
   "execution_count": 7,
   "id": "862afd76",
   "metadata": {},
   "outputs": [],
   "source": [
    "dataset = pd.DataFrame()"
   ]
  },
  {
   "cell_type": "code",
   "execution_count": 8,
   "id": "9823a42d",
   "metadata": {},
   "outputs": [],
   "source": [
    "dataset[\"frames_files\"] = image_files"
   ]
  },
  {
   "cell_type": "code",
   "execution_count": 9,
   "id": "4898da2f",
   "metadata": {},
   "outputs": [],
   "source": [
    "dataset[\"category_ID\"] = dataset[\"frames_files\"].apply(lambda x: x[:3])"
   ]
  },
  {
   "cell_type": "code",
   "execution_count": 10,
   "id": "6d854337",
   "metadata": {},
   "outputs": [],
   "source": [
    "dataset[\"category_name\"] = dataset[\"category_ID\"].apply(lambda x: categories_to_ID[x])"
   ]
  },
  {
   "cell_type": "code",
   "execution_count": 11,
   "id": "907edf40",
   "metadata": {},
   "outputs": [],
   "source": [
    "dataset[\"person_ID\"] = dataset[\"frames_files\"].apply(lambda x: x[4:7])\n",
    "dataset[\"person_ID\"] = dataset[\"frames_files\"].apply(lambda x: x[4:7])"
   ]
  },
  {
   "cell_type": "code",
   "execution_count": 12,
   "id": "0a240c06",
   "metadata": {},
   "outputs": [],
   "source": [
    "dataset[\"video_ID\"] = dataset[\"frames_files\"].apply(lambda x: x[:11])"
   ]
  },
  {
   "cell_type": "code",
   "execution_count": 13,
   "id": "45491702",
   "metadata": {},
   "outputs": [],
   "source": [
    "dataset[\"video_path\"] = data_path+\"/\"+dataset[\"category_ID\"]+\"/\"+dataset[\"frames_files\"]"
   ]
  },
  {
   "cell_type": "code",
   "execution_count": 14,
   "id": "3b428e3a",
   "metadata": {},
   "outputs": [],
   "source": [
    "dataset[\"frame_ID\"] = dataset[\"frames_files\"].apply(lambda x: int(x.split(\"frame_\")[1].split(\".\")[0]))"
   ]
  },
  {
   "cell_type": "code",
   "execution_count": 15,
   "id": "3c25288f",
   "metadata": {},
   "outputs": [
    {
     "name": "stdout",
     "output_type": "stream",
     "text": [
      "212\n"
     ]
    }
   ],
   "source": [
    "MAX_SEQ_LENGTH = dataset[\"frame_ID\"].max()+1\n",
    "print(MAX_SEQ_LENGTH)"
   ]
  },
  {
   "cell_type": "markdown",
   "id": "f37423bd",
   "metadata": {},
   "source": [
    "# Predict "
   ]
  },
  {
   "cell_type": "code",
   "execution_count": 16,
   "id": "34d489c7",
   "metadata": {},
   "outputs": [],
   "source": [
    "CLASS_NAMES =[\"Sweet milk\", \"Argentina\", \"Barbecue\", \"Thanks\"]\n",
    "MODEL_PATH = \"./trained_models/signs_model_efficientnetv2-s_v1\"\n"
   ]
  },
  {
   "cell_type": "code",
   "execution_count": 17,
   "id": "6c9a02bd",
   "metadata": {},
   "outputs": [],
   "source": [
    "IMG_SIZE = (224, 224)\n",
    "IMG_SHAPE = IMG_SIZE + (3,)\n",
    "\n",
    "model_cnn_features = tf.keras.applications.MobileNetV2(input_shape=IMG_SHAPE,\n",
    "                                               include_top=False,\n",
    "                                               weights='imagenet')\n"
   ]
  },
  {
   "cell_type": "code",
   "execution_count": 18,
   "id": "276eecef",
   "metadata": {},
   "outputs": [],
   "source": [
    "def load_model(model_path):\n",
    "    model_keras = tf.keras.models.load_model(model_path)\n",
    "    return model_keras\n",
    "\n",
    "\n",
    "#model = load_model(MODEL_PATH)\n",
    "#XX = model.input \n",
    "#YY = model.layers[0].output\n",
    "#model_cnn_features = Model(XX, YY)"
   ]
  },
  {
   "cell_type": "code",
   "execution_count": 19,
   "id": "0adeb965",
   "metadata": {},
   "outputs": [],
   "source": [
    "width = model_cnn_features.input_shape[1]\n",
    "height = model_cnn_features.input_shape[2]"
   ]
  },
  {
   "cell_type": "code",
   "execution_count": 20,
   "id": "1b85f2d5",
   "metadata": {},
   "outputs": [
    {
     "name": "stdout",
     "output_type": "stream",
     "text": [
      "Found 26300 files belonging to 4 classes.\n"
     ]
    }
   ],
   "source": [
    "dataset_tf = tf.keras.preprocessing.image_dataset_from_directory(data_path, image_size=(width, height))"
   ]
  },
  {
   "cell_type": "code",
   "execution_count": 21,
   "id": "0d44a7ac",
   "metadata": {},
   "outputs": [
    {
     "ename": "ResourceExhaustedError",
     "evalue": "Graph execution error:\n\nDetected at node 'mobilenetv2_1.00_224/block_1_expand_BN/FusedBatchNormV3' defined at (most recent call last):\n    File \"C:\\Users\\lucas\\anaconda3\\envs\\signem\\lib\\runpy.py\", line 192, in _run_module_as_main\n      return _run_code(code, main_globals, None,\n    File \"C:\\Users\\lucas\\anaconda3\\envs\\signem\\lib\\runpy.py\", line 85, in _run_code\n      exec(code, run_globals)\n    File \"C:\\Users\\lucas\\anaconda3\\envs\\signem\\lib\\site-packages\\ipykernel_launcher.py\", line 16, in <module>\n      app.launch_new_instance()\n    File \"C:\\Users\\lucas\\anaconda3\\envs\\signem\\lib\\site-packages\\traitlets\\config\\application.py\", line 846, in launch_instance\n      app.start()\n    File \"C:\\Users\\lucas\\anaconda3\\envs\\signem\\lib\\site-packages\\ipykernel\\kernelapp.py\", line 677, in start\n      self.io_loop.start()\n    File \"C:\\Users\\lucas\\anaconda3\\envs\\signem\\lib\\site-packages\\tornado\\platform\\asyncio.py\", line 199, in start\n      self.asyncio_loop.run_forever()\n    File \"C:\\Users\\lucas\\anaconda3\\envs\\signem\\lib\\asyncio\\base_events.py\", line 563, in run_forever\n      self._run_once()\n    File \"C:\\Users\\lucas\\anaconda3\\envs\\signem\\lib\\asyncio\\base_events.py\", line 1844, in _run_once\n      handle._run()\n    File \"C:\\Users\\lucas\\anaconda3\\envs\\signem\\lib\\asyncio\\events.py\", line 81, in _run\n      self._context.run(self._callback, *self._args)\n    File \"C:\\Users\\lucas\\anaconda3\\envs\\signem\\lib\\site-packages\\ipykernel\\kernelbase.py\", line 461, in dispatch_queue\n      await self.process_one()\n    File \"C:\\Users\\lucas\\anaconda3\\envs\\signem\\lib\\site-packages\\ipykernel\\kernelbase.py\", line 450, in process_one\n      await dispatch(*args)\n    File \"C:\\Users\\lucas\\anaconda3\\envs\\signem\\lib\\site-packages\\ipykernel\\kernelbase.py\", line 357, in dispatch_shell\n      await result\n    File \"C:\\Users\\lucas\\anaconda3\\envs\\signem\\lib\\site-packages\\ipykernel\\kernelbase.py\", line 652, in execute_request\n      reply_content = await reply_content\n    File \"C:\\Users\\lucas\\anaconda3\\envs\\signem\\lib\\site-packages\\ipykernel\\ipkernel.py\", line 359, in do_execute\n      res = shell.run_cell(code, store_history=store_history, silent=silent)\n    File \"C:\\Users\\lucas\\anaconda3\\envs\\signem\\lib\\site-packages\\ipykernel\\zmqshell.py\", line 532, in run_cell\n      return super().run_cell(*args, **kwargs)\n    File \"C:\\Users\\lucas\\anaconda3\\envs\\signem\\lib\\site-packages\\IPython\\core\\interactiveshell.py\", line 2768, in run_cell\n      result = self._run_cell(\n    File \"C:\\Users\\lucas\\anaconda3\\envs\\signem\\lib\\site-packages\\IPython\\core\\interactiveshell.py\", line 2814, in _run_cell\n      return runner(coro)\n    File \"C:\\Users\\lucas\\anaconda3\\envs\\signem\\lib\\site-packages\\IPython\\core\\async_helpers.py\", line 129, in _pseudo_sync_runner\n      coro.send(None)\n    File \"C:\\Users\\lucas\\anaconda3\\envs\\signem\\lib\\site-packages\\IPython\\core\\interactiveshell.py\", line 3012, in run_cell_async\n      has_raised = await self.run_ast_nodes(code_ast.body, cell_name,\n    File \"C:\\Users\\lucas\\anaconda3\\envs\\signem\\lib\\site-packages\\IPython\\core\\interactiveshell.py\", line 3191, in run_ast_nodes\n      if await self.run_code(code, result, async_=asy):\n    File \"C:\\Users\\lucas\\anaconda3\\envs\\signem\\lib\\site-packages\\IPython\\core\\interactiveshell.py\", line 3251, in run_code\n      exec(code_obj, self.user_global_ns, self.user_ns)\n    File \"C:\\Users\\lucas\\AppData\\Local\\Temp\\ipykernel_281496\\790558443.py\", line 1, in <module>\n      dataset_predictions = model_cnn_features.predict(dataset_tf)\n    File \"C:\\Users\\lucas\\anaconda3\\envs\\signem\\lib\\site-packages\\keras\\utils\\traceback_utils.py\", line 64, in error_handler\n      return fn(*args, **kwargs)\n    File \"C:\\Users\\lucas\\anaconda3\\envs\\signem\\lib\\site-packages\\keras\\engine\\training.py\", line 1982, in predict\n      tmp_batch_outputs = self.predict_function(iterator)\n    File \"C:\\Users\\lucas\\anaconda3\\envs\\signem\\lib\\site-packages\\keras\\engine\\training.py\", line 1801, in predict_function\n      return step_function(self, iterator)\n    File \"C:\\Users\\lucas\\anaconda3\\envs\\signem\\lib\\site-packages\\keras\\engine\\training.py\", line 1790, in step_function\n      outputs = model.distribute_strategy.run(run_step, args=(data,))\n    File \"C:\\Users\\lucas\\anaconda3\\envs\\signem\\lib\\site-packages\\keras\\engine\\training.py\", line 1783, in run_step\n      outputs = model.predict_step(data)\n    File \"C:\\Users\\lucas\\anaconda3\\envs\\signem\\lib\\site-packages\\keras\\engine\\training.py\", line 1751, in predict_step\n      return self(x, training=False)\n    File \"C:\\Users\\lucas\\anaconda3\\envs\\signem\\lib\\site-packages\\keras\\utils\\traceback_utils.py\", line 64, in error_handler\n      return fn(*args, **kwargs)\n    File \"C:\\Users\\lucas\\anaconda3\\envs\\signem\\lib\\site-packages\\keras\\engine\\base_layer.py\", line 1096, in __call__\n      outputs = call_fn(inputs, *args, **kwargs)\n    File \"C:\\Users\\lucas\\anaconda3\\envs\\signem\\lib\\site-packages\\keras\\utils\\traceback_utils.py\", line 92, in error_handler\n      return fn(*args, **kwargs)\n    File \"C:\\Users\\lucas\\anaconda3\\envs\\signem\\lib\\site-packages\\keras\\engine\\functional.py\", line 451, in call\n      return self._run_internal_graph(\n    File \"C:\\Users\\lucas\\anaconda3\\envs\\signem\\lib\\site-packages\\keras\\engine\\functional.py\", line 589, in _run_internal_graph\n      outputs = node.layer(*args, **kwargs)\n    File \"C:\\Users\\lucas\\anaconda3\\envs\\signem\\lib\\site-packages\\keras\\utils\\traceback_utils.py\", line 64, in error_handler\n      return fn(*args, **kwargs)\n    File \"C:\\Users\\lucas\\anaconda3\\envs\\signem\\lib\\site-packages\\keras\\engine\\base_layer.py\", line 1096, in __call__\n      outputs = call_fn(inputs, *args, **kwargs)\n    File \"C:\\Users\\lucas\\anaconda3\\envs\\signem\\lib\\site-packages\\keras\\utils\\traceback_utils.py\", line 92, in error_handler\n      return fn(*args, **kwargs)\n    File \"C:\\Users\\lucas\\anaconda3\\envs\\signem\\lib\\site-packages\\keras\\layers\\normalization\\batch_normalization.py\", line 767, in call\n      outputs = self._fused_batch_norm(inputs, training=training)\n    File \"C:\\Users\\lucas\\anaconda3\\envs\\signem\\lib\\site-packages\\keras\\layers\\normalization\\batch_normalization.py\", line 623, in _fused_batch_norm\n      output, mean, variance = control_flow_util.smart_cond(\n    File \"C:\\Users\\lucas\\anaconda3\\envs\\signem\\lib\\site-packages\\keras\\utils\\control_flow_util.py\", line 105, in smart_cond\n      return tf.__internal__.smart_cond.smart_cond(\n    File \"C:\\Users\\lucas\\anaconda3\\envs\\signem\\lib\\site-packages\\keras\\layers\\normalization\\batch_normalization.py\", line 605, in _fused_batch_norm_inference\n      return tf.compat.v1.nn.fused_batch_norm(\nNode: 'mobilenetv2_1.00_224/block_1_expand_BN/FusedBatchNormV3'\nOOM when allocating tensor with shape[32,96,112,112] and type float on /job:localhost/replica:0/task:0/device:GPU:0 by allocator GPU_0_bfc\n\t [[{{node mobilenetv2_1.00_224/block_1_expand_BN/FusedBatchNormV3}}]]\nHint: If you want to see a list of allocated tensors when OOM happens, add report_tensor_allocations_upon_oom to RunOptions for current allocation info. This isn't available when running in Eager mode.\n [Op:__inference_predict_function_4105]",
     "output_type": "error",
     "traceback": [
      "\u001b[1;31m---------------------------------------------------------------------------\u001b[0m",
      "\u001b[1;31mResourceExhaustedError\u001b[0m                    Traceback (most recent call last)",
      "Input \u001b[1;32mIn [21]\u001b[0m, in \u001b[0;36m<module>\u001b[1;34m\u001b[0m\n\u001b[1;32m----> 1\u001b[0m dataset_predictions \u001b[38;5;241m=\u001b[39m \u001b[43mmodel_cnn_features\u001b[49m\u001b[38;5;241;43m.\u001b[39;49m\u001b[43mpredict\u001b[49m\u001b[43m(\u001b[49m\u001b[43mdataset_tf\u001b[49m\u001b[43m)\u001b[49m\n",
      "File \u001b[1;32m~\\anaconda3\\envs\\signem\\lib\\site-packages\\keras\\utils\\traceback_utils.py:67\u001b[0m, in \u001b[0;36mfilter_traceback.<locals>.error_handler\u001b[1;34m(*args, **kwargs)\u001b[0m\n\u001b[0;32m     65\u001b[0m \u001b[38;5;28;01mexcept\u001b[39;00m \u001b[38;5;167;01mException\u001b[39;00m \u001b[38;5;28;01mas\u001b[39;00m e:  \u001b[38;5;66;03m# pylint: disable=broad-except\u001b[39;00m\n\u001b[0;32m     66\u001b[0m   filtered_tb \u001b[38;5;241m=\u001b[39m _process_traceback_frames(e\u001b[38;5;241m.\u001b[39m__traceback__)\n\u001b[1;32m---> 67\u001b[0m   \u001b[38;5;28;01mraise\u001b[39;00m e\u001b[38;5;241m.\u001b[39mwith_traceback(filtered_tb) \u001b[38;5;28;01mfrom\u001b[39;00m \u001b[38;5;28mNone\u001b[39m\n\u001b[0;32m     68\u001b[0m \u001b[38;5;28;01mfinally\u001b[39;00m:\n\u001b[0;32m     69\u001b[0m   \u001b[38;5;28;01mdel\u001b[39;00m filtered_tb\n",
      "File \u001b[1;32m~\\anaconda3\\envs\\signem\\lib\\site-packages\\tensorflow\\python\\eager\\execute.py:54\u001b[0m, in \u001b[0;36mquick_execute\u001b[1;34m(op_name, num_outputs, inputs, attrs, ctx, name)\u001b[0m\n\u001b[0;32m     52\u001b[0m \u001b[38;5;28;01mtry\u001b[39;00m:\n\u001b[0;32m     53\u001b[0m   ctx\u001b[38;5;241m.\u001b[39mensure_initialized()\n\u001b[1;32m---> 54\u001b[0m   tensors \u001b[38;5;241m=\u001b[39m pywrap_tfe\u001b[38;5;241m.\u001b[39mTFE_Py_Execute(ctx\u001b[38;5;241m.\u001b[39m_handle, device_name, op_name,\n\u001b[0;32m     55\u001b[0m                                       inputs, attrs, num_outputs)\n\u001b[0;32m     56\u001b[0m \u001b[38;5;28;01mexcept\u001b[39;00m core\u001b[38;5;241m.\u001b[39m_NotOkStatusException \u001b[38;5;28;01mas\u001b[39;00m e:\n\u001b[0;32m     57\u001b[0m   \u001b[38;5;28;01mif\u001b[39;00m name \u001b[38;5;129;01mis\u001b[39;00m \u001b[38;5;129;01mnot\u001b[39;00m \u001b[38;5;28;01mNone\u001b[39;00m:\n",
      "\u001b[1;31mResourceExhaustedError\u001b[0m: Graph execution error:\n\nDetected at node 'mobilenetv2_1.00_224/block_1_expand_BN/FusedBatchNormV3' defined at (most recent call last):\n    File \"C:\\Users\\lucas\\anaconda3\\envs\\signem\\lib\\runpy.py\", line 192, in _run_module_as_main\n      return _run_code(code, main_globals, None,\n    File \"C:\\Users\\lucas\\anaconda3\\envs\\signem\\lib\\runpy.py\", line 85, in _run_code\n      exec(code, run_globals)\n    File \"C:\\Users\\lucas\\anaconda3\\envs\\signem\\lib\\site-packages\\ipykernel_launcher.py\", line 16, in <module>\n      app.launch_new_instance()\n    File \"C:\\Users\\lucas\\anaconda3\\envs\\signem\\lib\\site-packages\\traitlets\\config\\application.py\", line 846, in launch_instance\n      app.start()\n    File \"C:\\Users\\lucas\\anaconda3\\envs\\signem\\lib\\site-packages\\ipykernel\\kernelapp.py\", line 677, in start\n      self.io_loop.start()\n    File \"C:\\Users\\lucas\\anaconda3\\envs\\signem\\lib\\site-packages\\tornado\\platform\\asyncio.py\", line 199, in start\n      self.asyncio_loop.run_forever()\n    File \"C:\\Users\\lucas\\anaconda3\\envs\\signem\\lib\\asyncio\\base_events.py\", line 563, in run_forever\n      self._run_once()\n    File \"C:\\Users\\lucas\\anaconda3\\envs\\signem\\lib\\asyncio\\base_events.py\", line 1844, in _run_once\n      handle._run()\n    File \"C:\\Users\\lucas\\anaconda3\\envs\\signem\\lib\\asyncio\\events.py\", line 81, in _run\n      self._context.run(self._callback, *self._args)\n    File \"C:\\Users\\lucas\\anaconda3\\envs\\signem\\lib\\site-packages\\ipykernel\\kernelbase.py\", line 461, in dispatch_queue\n      await self.process_one()\n    File \"C:\\Users\\lucas\\anaconda3\\envs\\signem\\lib\\site-packages\\ipykernel\\kernelbase.py\", line 450, in process_one\n      await dispatch(*args)\n    File \"C:\\Users\\lucas\\anaconda3\\envs\\signem\\lib\\site-packages\\ipykernel\\kernelbase.py\", line 357, in dispatch_shell\n      await result\n    File \"C:\\Users\\lucas\\anaconda3\\envs\\signem\\lib\\site-packages\\ipykernel\\kernelbase.py\", line 652, in execute_request\n      reply_content = await reply_content\n    File \"C:\\Users\\lucas\\anaconda3\\envs\\signem\\lib\\site-packages\\ipykernel\\ipkernel.py\", line 359, in do_execute\n      res = shell.run_cell(code, store_history=store_history, silent=silent)\n    File \"C:\\Users\\lucas\\anaconda3\\envs\\signem\\lib\\site-packages\\ipykernel\\zmqshell.py\", line 532, in run_cell\n      return super().run_cell(*args, **kwargs)\n    File \"C:\\Users\\lucas\\anaconda3\\envs\\signem\\lib\\site-packages\\IPython\\core\\interactiveshell.py\", line 2768, in run_cell\n      result = self._run_cell(\n    File \"C:\\Users\\lucas\\anaconda3\\envs\\signem\\lib\\site-packages\\IPython\\core\\interactiveshell.py\", line 2814, in _run_cell\n      return runner(coro)\n    File \"C:\\Users\\lucas\\anaconda3\\envs\\signem\\lib\\site-packages\\IPython\\core\\async_helpers.py\", line 129, in _pseudo_sync_runner\n      coro.send(None)\n    File \"C:\\Users\\lucas\\anaconda3\\envs\\signem\\lib\\site-packages\\IPython\\core\\interactiveshell.py\", line 3012, in run_cell_async\n      has_raised = await self.run_ast_nodes(code_ast.body, cell_name,\n    File \"C:\\Users\\lucas\\anaconda3\\envs\\signem\\lib\\site-packages\\IPython\\core\\interactiveshell.py\", line 3191, in run_ast_nodes\n      if await self.run_code(code, result, async_=asy):\n    File \"C:\\Users\\lucas\\anaconda3\\envs\\signem\\lib\\site-packages\\IPython\\core\\interactiveshell.py\", line 3251, in run_code\n      exec(code_obj, self.user_global_ns, self.user_ns)\n    File \"C:\\Users\\lucas\\AppData\\Local\\Temp\\ipykernel_281496\\790558443.py\", line 1, in <module>\n      dataset_predictions = model_cnn_features.predict(dataset_tf)\n    File \"C:\\Users\\lucas\\anaconda3\\envs\\signem\\lib\\site-packages\\keras\\utils\\traceback_utils.py\", line 64, in error_handler\n      return fn(*args, **kwargs)\n    File \"C:\\Users\\lucas\\anaconda3\\envs\\signem\\lib\\site-packages\\keras\\engine\\training.py\", line 1982, in predict\n      tmp_batch_outputs = self.predict_function(iterator)\n    File \"C:\\Users\\lucas\\anaconda3\\envs\\signem\\lib\\site-packages\\keras\\engine\\training.py\", line 1801, in predict_function\n      return step_function(self, iterator)\n    File \"C:\\Users\\lucas\\anaconda3\\envs\\signem\\lib\\site-packages\\keras\\engine\\training.py\", line 1790, in step_function\n      outputs = model.distribute_strategy.run(run_step, args=(data,))\n    File \"C:\\Users\\lucas\\anaconda3\\envs\\signem\\lib\\site-packages\\keras\\engine\\training.py\", line 1783, in run_step\n      outputs = model.predict_step(data)\n    File \"C:\\Users\\lucas\\anaconda3\\envs\\signem\\lib\\site-packages\\keras\\engine\\training.py\", line 1751, in predict_step\n      return self(x, training=False)\n    File \"C:\\Users\\lucas\\anaconda3\\envs\\signem\\lib\\site-packages\\keras\\utils\\traceback_utils.py\", line 64, in error_handler\n      return fn(*args, **kwargs)\n    File \"C:\\Users\\lucas\\anaconda3\\envs\\signem\\lib\\site-packages\\keras\\engine\\base_layer.py\", line 1096, in __call__\n      outputs = call_fn(inputs, *args, **kwargs)\n    File \"C:\\Users\\lucas\\anaconda3\\envs\\signem\\lib\\site-packages\\keras\\utils\\traceback_utils.py\", line 92, in error_handler\n      return fn(*args, **kwargs)\n    File \"C:\\Users\\lucas\\anaconda3\\envs\\signem\\lib\\site-packages\\keras\\engine\\functional.py\", line 451, in call\n      return self._run_internal_graph(\n    File \"C:\\Users\\lucas\\anaconda3\\envs\\signem\\lib\\site-packages\\keras\\engine\\functional.py\", line 589, in _run_internal_graph\n      outputs = node.layer(*args, **kwargs)\n    File \"C:\\Users\\lucas\\anaconda3\\envs\\signem\\lib\\site-packages\\keras\\utils\\traceback_utils.py\", line 64, in error_handler\n      return fn(*args, **kwargs)\n    File \"C:\\Users\\lucas\\anaconda3\\envs\\signem\\lib\\site-packages\\keras\\engine\\base_layer.py\", line 1096, in __call__\n      outputs = call_fn(inputs, *args, **kwargs)\n    File \"C:\\Users\\lucas\\anaconda3\\envs\\signem\\lib\\site-packages\\keras\\utils\\traceback_utils.py\", line 92, in error_handler\n      return fn(*args, **kwargs)\n    File \"C:\\Users\\lucas\\anaconda3\\envs\\signem\\lib\\site-packages\\keras\\layers\\normalization\\batch_normalization.py\", line 767, in call\n      outputs = self._fused_batch_norm(inputs, training=training)\n    File \"C:\\Users\\lucas\\anaconda3\\envs\\signem\\lib\\site-packages\\keras\\layers\\normalization\\batch_normalization.py\", line 623, in _fused_batch_norm\n      output, mean, variance = control_flow_util.smart_cond(\n    File \"C:\\Users\\lucas\\anaconda3\\envs\\signem\\lib\\site-packages\\keras\\utils\\control_flow_util.py\", line 105, in smart_cond\n      return tf.__internal__.smart_cond.smart_cond(\n    File \"C:\\Users\\lucas\\anaconda3\\envs\\signem\\lib\\site-packages\\keras\\layers\\normalization\\batch_normalization.py\", line 605, in _fused_batch_norm_inference\n      return tf.compat.v1.nn.fused_batch_norm(\nNode: 'mobilenetv2_1.00_224/block_1_expand_BN/FusedBatchNormV3'\nOOM when allocating tensor with shape[32,96,112,112] and type float on /job:localhost/replica:0/task:0/device:GPU:0 by allocator GPU_0_bfc\n\t [[{{node mobilenetv2_1.00_224/block_1_expand_BN/FusedBatchNormV3}}]]\nHint: If you want to see a list of allocated tensors when OOM happens, add report_tensor_allocations_upon_oom to RunOptions for current allocation info. This isn't available when running in Eager mode.\n [Op:__inference_predict_function_4105]"
     ]
    }
   ],
   "source": [
    "dataset_predictions = model_cnn_features.predict(dataset_tf) "
   ]
  },
  {
   "cell_type": "code",
   "execution_count": null,
   "id": "24bb969c",
   "metadata": {},
   "outputs": [],
   "source": [
    "dataset_predictions.shape"
   ]
  },
  {
   "cell_type": "code",
   "execution_count": null,
   "id": "77395c59",
   "metadata": {},
   "outputs": [],
   "source": [
    "total_videos = len(dataset[\"video_ID\"].unique())\n",
    "i=1\n",
    "for video_ID in dataset[\"video_ID\"].unique():\n",
    "    video_frames = dataset[dataset[\"video_ID\"]==video_ID]\n",
    "    category_ID = video_frames[\"category_ID\"].unique()[0]\n",
    "    number_of_frames_in_video = len(video_frames[\"frames_files\"].unique())\n",
    "    path_to_video = output_path+category_ID+\"/\"\n",
    "    dataset_video_index = list(dataset[dataset[\"video_ID\"]==video_ID].index)\n",
    "    print(f\"Predicting video: {i}/{total_videos} length: {len(dataset_video_index)}\" )\n",
    "    predictions_video = dataset_predictions[dataset_video_index] \n",
    "    zeros_to_pad = MAX_SEQ_LENGTH-predictions_video.shape[0]\n",
    "    predictions_video = np.pad(predictions_video,  [(0, zeros_to_pad), (0, 0)])\n",
    "    if not os.path.exists(path_to_video):\n",
    "        os.makedirs(path_to_video)\n",
    "    np.savez_compressed(path_to_video+video_ID+'.npz', predictions_video)\n",
    "    i+=1 "
   ]
  },
  {
   "cell_type": "code",
   "execution_count": null,
   "id": "3829dad6",
   "metadata": {},
   "outputs": [],
   "source": [
    "def frame_from_jpeg(path_jpeg):\n",
    "    img = Image.open(path_jpeg).resize((width, height), Image.ANTIALIAS)\n",
    "    img = np.array(img)\n",
    "    return img"
   ]
  },
  {
   "cell_type": "code",
   "execution_count": null,
   "id": "28e9cbe7",
   "metadata": {
    "scrolled": true
   },
   "outputs": [],
   "source": [
    "\"\"\"\n",
    "for video_ID in dataset[\"video_ID\"].unique()[111:]:\n",
    "    video_frames = dataset[dataset[\"video_ID\"]==video_ID]\n",
    "    category_ID = video_frames[\"category_ID\"].unique()[0]\n",
    "    number_of_frames_in_video = len(video_frames[\"frames_files\"].unique())\n",
    "    path_to_video = \"./data/train_cnn_features/\"+category_ID+\"/\"\n",
    "    dataset_video_index = list(dataset[dataset[\"video_ID\"]==video_ID].index)\n",
    "    frames_index = list(dataset[dataset[\"video_ID\"]==video_ID].reset_index(drop=True).index)\n",
    "    print(f\"Predicting video: {video_ID} length: {len(dataset_video_index)}\" )\n",
    "    \n",
    "    video_frames_jpeg = np.empty((number_of_frames_in_video, width, height, 3), dtype=float)\n",
    "    i = 0\n",
    "    for video in video_frames[\"video_path\"].unique():\n",
    "        print(f\"{i+1}/{number_of_frames_in_video}\")\n",
    "        video_frames_jpeg[i] = frame_from_jpeg(video)\n",
    "        i+=1 \n",
    "    predictions_video = model_cnn_features.predict(video_frames_jpeg) \n",
    "    zeros_to_pad = MAX_SEQ_LENGTH-predictions_video.shape[0]\n",
    "    predictions_video = np.pad(predictions_video,  [(0, zeros_to_pad), (0, 0)])\n",
    "    if not os.path.exists(path_to_video):\n",
    "        os.makedirs(path_to_video)\n",
    "    np.savez_compressed(path_to_video+video_ID+'.npz', predictions_video)\n",
    "\"\"\""
   ]
  },
  {
   "cell_type": "code",
   "execution_count": null,
   "id": "c86de8b2",
   "metadata": {},
   "outputs": [],
   "source": []
  }
 ],
 "metadata": {
  "kernelspec": {
   "display_name": "Python 3 (ipykernel)",
   "language": "python",
   "name": "python3"
  },
  "language_info": {
   "codemirror_mode": {
    "name": "ipython",
    "version": 3
   },
   "file_extension": ".py",
   "mimetype": "text/x-python",
   "name": "python",
   "nbconvert_exporter": "python",
   "pygments_lexer": "ipython3",
   "version": "3.8.0"
  }
 },
 "nbformat": 4,
 "nbformat_minor": 5
}
