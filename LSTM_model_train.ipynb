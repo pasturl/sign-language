{
 "cells": [
  {
   "cell_type": "code",
   "execution_count": 1,
   "id": "612c0aa6",
   "metadata": {},
   "outputs": [],
   "source": [
    "import tensorflow as tf\n",
    "from tensorflow import keras\n",
    "import numpy as np\n",
    "import pandas as pd\n",
    "import seaborn as sns\n",
    "import matplotlib.pyplot as plt\n",
    "from os import listdir\n",
    "from tensorflow.keras.layers import LSTM, Dense\n",
    "from sklearn.model_selection import train_test_split\n",
    "from sklearn.metrics import confusion_matrix\n"
   ]
  },
  {
   "cell_type": "code",
   "execution_count": 2,
   "id": "3a91b524",
   "metadata": {},
   "outputs": [],
   "source": [
    "# Analyze to load data in batch\n",
    "# https://stackoverflow.com/questions/61891990/how-to-load-npy-files-from-different-directories-in-tensorflow-data-pipeline-fr"
   ]
  },
  {
   "cell_type": "code",
   "execution_count": 3,
   "id": "620ee2fb",
   "metadata": {},
   "outputs": [],
   "source": [
    "data_path = \"./data/train_cnn_features\"\n",
    "train_examples = []\n",
    "train_labels = []\n",
    "video_categories = listdir(data_path)\n",
    "for category in video_categories:\n",
    "    category_path = data_path+\"/\"+category\n",
    "    images_files = listdir(category_path)\n",
    "    for image in images_files:\n",
    "        image_path = category_path+\"/\"+image\n",
    "        cnn_features = np.load(image_path)[\"arr_0\"]\n",
    "        train_examples.append(cnn_features)\n",
    "        train_labels.append(category)"
   ]
  },
  {
   "cell_type": "code",
   "execution_count": 4,
   "id": "a4cb32aa",
   "metadata": {},
   "outputs": [],
   "source": [
    "MAX_SEQ_LENGTH = 242\n",
    "NUM_FEATURES = 1280\n",
    "EPOCHS = 10\n",
    "BATCH_SIZE = 256\n",
    "CLASSES = list(set(train_labels))\n",
    "N_CLASSES = len(CLASSES)"
   ]
  },
  {
   "cell_type": "code",
   "execution_count": 5,
   "id": "efcd17d2",
   "metadata": {},
   "outputs": [],
   "source": [
    "labels_mapping = dict(zip(CLASSES, range(N_CLASSES)))"
   ]
  },
  {
   "cell_type": "code",
   "execution_count": 6,
   "id": "0505c494",
   "metadata": {},
   "outputs": [],
   "source": [
    "train_labels_ids = [labels_mapping[case] for case in train_labels]"
   ]
  },
  {
   "cell_type": "code",
   "execution_count": 7,
   "id": "5b7669df",
   "metadata": {},
   "outputs": [],
   "source": [
    "labels_one_hot = tf.one_hot(train_labels_ids, N_CLASSES)"
   ]
  },
  {
   "cell_type": "code",
   "execution_count": 8,
   "id": "e45ec18a",
   "metadata": {},
   "outputs": [],
   "source": [
    "X_train, X_test, y_train_ids, y_test_ids = train_test_split(train_examples, train_labels_ids, test_size=0.33, random_state=42)"
   ]
  },
  {
   "cell_type": "code",
   "execution_count": 9,
   "id": "cbcd9c9c",
   "metadata": {},
   "outputs": [],
   "source": [
    "y_train = tf.one_hot(y_train_ids, N_CLASSES)\n",
    "y_test = tf.one_hot(y_test_ids, N_CLASSES)"
   ]
  },
  {
   "cell_type": "code",
   "execution_count": 10,
   "id": "85e0643a",
   "metadata": {},
   "outputs": [],
   "source": [
    "train_dataset = tf.data.Dataset.from_tensor_slices((X_train, y_train)).batch(BATCH_SIZE)\n",
    "test_dataset = tf.data.Dataset.from_tensor_slices((X_test, y_test)).batch(BATCH_SIZE)\n",
    "#train_dataset = tf.data.Dataset.from_tensor_slices((train_examples, labels_one_hot)).batch(BATCH_SIZE)"
   ]
  },
  {
   "cell_type": "code",
   "execution_count": 11,
   "id": "d5b54d7f",
   "metadata": {},
   "outputs": [
    {
     "name": "stdout",
     "output_type": "stream",
     "text": [
      "Model: \"sequential\"\n",
      "_________________________________________________________________\n",
      " Layer (type)                Output Shape              Param #   \n",
      "=================================================================\n",
      " lstm (LSTM)                 (None, 242, 64)           344320    \n",
      "                                                                 \n",
      " lstm_1 (LSTM)               (None, 32)                12416     \n",
      "                                                                 \n",
      " dense (Dense)               (None, 64)                2112      \n",
      "                                                                 \n",
      " dense_1 (Dense)             (None, 64)                4160      \n",
      "                                                                 \n",
      "=================================================================\n",
      "Total params: 363,008\n",
      "Trainable params: 363,008\n",
      "Non-trainable params: 0\n",
      "_________________________________________________________________\n"
     ]
    }
   ],
   "source": [
    "model = keras.Sequential()\n",
    "model.add(keras.Input(shape=(MAX_SEQ_LENGTH, NUM_FEATURES))) \n",
    "model.add(LSTM(64, return_sequences=True))\n",
    "model.add(LSTM(32))\n",
    "model.add(Dense(N_CLASSES*2))\n",
    "model.add(Dense(N_CLASSES, activation=\"softmax\"))\n",
    "\n",
    "model.compile(loss=\"categorical_crossentropy\", \n",
    "              optimizer=\"adam\",\n",
    "              metrics=[\"accuracy\"])\n",
    "\n",
    "model.summary()"
   ]
  },
  {
   "cell_type": "code",
   "execution_count": 12,
   "id": "4cfabf05",
   "metadata": {},
   "outputs": [
    {
     "name": "stdout",
     "output_type": "stream",
     "text": [
      "Epoch 1/10\n",
      "9/9 [==============================] - 40s 4s/step - loss: 4.1580 - accuracy: 0.0153 - val_loss: 4.1546 - val_accuracy: 0.0214\n",
      "Epoch 2/10\n",
      "9/9 [==============================] - 29s 4s/step - loss: 4.1473 - accuracy: 0.0282 - val_loss: 4.1398 - val_accuracy: 0.0136\n",
      "Epoch 3/10\n",
      "9/9 [==============================] - 32s 4s/step - loss: 4.1044 - accuracy: 0.0278 - val_loss: 4.1028 - val_accuracy: 0.0194\n",
      "Epoch 4/10\n",
      "9/9 [==============================] - 30s 4s/step - loss: 4.0530 - accuracy: 0.0316 - val_loss: 4.0426 - val_accuracy: 0.0272\n",
      "Epoch 5/10\n",
      "9/9 [==============================] - 29s 4s/step - loss: 3.9999 - accuracy: 0.0388 - val_loss: 4.0173 - val_accuracy: 0.0243\n",
      "Epoch 6/10\n",
      "9/9 [==============================] - 31s 4s/step - loss: 3.9542 - accuracy: 0.0354 - val_loss: 4.0098 - val_accuracy: 0.0369\n",
      "Epoch 7/10\n",
      "9/9 [==============================] - 30s 4s/step - loss: 3.9332 - accuracy: 0.0411 - val_loss: 4.0129 - val_accuracy: 0.0350\n",
      "Epoch 8/10\n",
      "9/9 [==============================] - 30s 4s/step - loss: 3.9295 - accuracy: 0.0435 - val_loss: 3.9806 - val_accuracy: 0.0243\n",
      "Epoch 9/10\n",
      "9/9 [==============================] - 32s 4s/step - loss: 3.8999 - accuracy: 0.0435 - val_loss: 3.9393 - val_accuracy: 0.0379\n",
      "Epoch 10/10\n",
      "9/9 [==============================] - 34s 4s/step - loss: 3.8643 - accuracy: 0.0464 - val_loss: 3.9315 - val_accuracy: 0.0291\n"
     ]
    }
   ],
   "source": [
    "filepath = \"./trained_models/video_classifier_rnn/\"\n",
    "checkpoint = keras.callbacks.ModelCheckpoint(filepath, \n",
    "                                             save_weights_only=True,\n",
    "                                             save_best_only=True,\n",
    "                                             verbose=1)\n",
    "history = model.fit(train_dataset, validation_data=test_dataset, #callbacks=[checkpoint],\n",
    "                    epochs=EPOCHS)"
   ]
  },
  {
   "cell_type": "code",
   "execution_count": 13,
   "id": "89c1e67d",
   "metadata": {},
   "outputs": [],
   "source": [
    "predictions_test = model.predict(np.array(X_test))"
   ]
  },
  {
   "cell_type": "code",
   "execution_count": 14,
   "id": "044cea73",
   "metadata": {},
   "outputs": [],
   "source": [
    "predictions_class_test = np.argmax(predictions_test, axis =1)"
   ]
  },
  {
   "cell_type": "code",
   "execution_count": 15,
   "id": "6c720667",
   "metadata": {},
   "outputs": [],
   "source": [
    "y_true = y_test_ids\n",
    "y_pred =  predictions_class_test\n",
    "# Confusion matrix for actual and predicted values.\n",
    "cm = confusion_matrix(y_true, y_pred)"
   ]
  },
  {
   "cell_type": "code",
   "execution_count": 16,
   "id": "52733ee6",
   "metadata": {},
   "outputs": [],
   "source": [
    "# Creating a dataframe for a array-formatted Confusion matrix,so it will be easy for plotting.\n",
    "cm_df = pd.DataFrame(cm,\n",
    "                     index = CLASSES, \n",
    "                     columns = CLASSES)"
   ]
  },
  {
   "cell_type": "code",
   "execution_count": 17,
   "id": "aa65c12b",
   "metadata": {},
   "outputs": [
    {
     "data": {
      "image/png": "[encoded data removed]",
      "text/plain": [
       "<Figure size 360x288 with 2 Axes>"
      ]
     },
     "metadata": {
      "needs_background": "light"
     },
     "output_type": "display_data"
    }
   ],
   "source": [
    "#Plotting the confusion matrix\n",
    "plt.figure(figsize=(5,4))\n",
    "sns.heatmap(cm_df, annot=True)\n",
    "plt.title('Confusion Matrix')\n",
    "plt.ylabel('Actal Values')\n",
    "plt.xlabel('Predicted Values')\n",
    "plt.show()\n"
   ]
  },
  {
   "cell_type": "code",
   "execution_count": null,
   "id": "00f37358",
   "metadata": {},
   "outputs": [],
   "source": []
  }
 ],
 "metadata": {
  "kernelspec": {
   "display_name": "Python 3 (ipykernel)",
   "language": "python",
   "name": "python3"
  },
  "language_info": {
   "codemirror_mode": {
    "name": "ipython",
    "version": 3
   },
   "file_extension": ".py",
   "mimetype": "text/x-python",
   "name": "python",
   "nbconvert_exporter": "python",
   "pygments_lexer": "ipython3",
   "version": "3.8.0"
  }
 },
 "nbformat": 4,
 "nbformat_minor": 5
}
